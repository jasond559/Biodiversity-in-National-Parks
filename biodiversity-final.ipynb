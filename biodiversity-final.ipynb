{
 "cells": [
  {
   "cell_type": "markdown",
   "metadata": {},
   "source": [
    "# Introduction\n",
    "\n",
    "In this project we are analyzing data regarding species within several US National Parks. The data has been provided by Codecademy.com as part of the data science 2021 learning program.\n",
    "\n",
    "## Goals\n",
    "\n",
    "The goal of this project is to use python and several libraries to explore, clean, and analyze data contained within two separate CSV files. \n",
    "\n",
    "### 1. Explore - \n",
    "We must first import the data to determine if any cleaning needs to occur prior to analysis.\n",
    "\n",
    "### 2. Clean - \n",
    "Any cleaning of the data must occur before we analyze for answers to our questions.\n",
    "\n",
    "### 3. Analyze - \n",
    "\n",
    "The questions we wish to answer about this data are as follows:\n",
    "\n",
    "- What is the distribution of species within the different protection statuses?\n",
    "- How likely are certain animal categories to be endangered in comparison with all species?\n",
    "- What are the most observed animal categories in each park?\n",
    "\n",
    "\n"
   ]
  },
  {
   "cell_type": "markdown",
   "metadata": {},
   "source": [
    "### 1.1 Explore data"
   ]
  },
  {
   "cell_type": "code",
   "execution_count": 1,
   "metadata": {},
   "outputs": [],
   "source": [
    "# first need to import necessary libraries \n",
    "\n",
    "import pandas as pd\n",
    "import numpy as np\n",
    "\n",
    "import seaborn as sns\n",
    "from matplotlib import pyplot as plt"
   ]
  },
  {
   "cell_type": "code",
   "execution_count": 2,
   "metadata": {},
   "outputs": [],
   "source": [
    "# create dataframes from csv files\n",
    "\n",
    "species = pd.read_csv('species_info.csv')\n",
    "obs = pd.read_csv('observations.csv')"
   ]
  },
  {
   "cell_type": "code",
   "execution_count": 5,
   "metadata": {
    "scrolled": true
   },
   "outputs": [
    {
     "name": "stdout",
     "output_type": "stream",
     "text": [
      "Species data:  \n",
      "\n",
      "  category                scientific_name  \\\n",
      "0   Mammal  Clethrionomys gapperi gapperi   \n",
      "1   Mammal                      Bos bison   \n",
      "2   Mammal                     Bos taurus   \n",
      "3   Mammal                     Ovis aries   \n",
      "4   Mammal                 Cervus elaphus   \n",
      "\n",
      "                                        common_names conservation_status  \n",
      "0                           Gapper's Red-Backed Vole                 NaN  \n",
      "1                              American Bison, Bison                 NaN  \n",
      "2  Aurochs, Aurochs, Domestic Cattle (Feral), Dom...                 NaN  \n",
      "3  Domestic Sheep, Mouflon, Red Sheep, Sheep (Feral)                 NaN  \n",
      "4                                      Wapiti Or Elk                 NaN  \n",
      "\n",
      "\n",
      "<class 'pandas.core.frame.DataFrame'>\n",
      "RangeIndex: 5824 entries, 0 to 5823\n",
      "Data columns (total 4 columns):\n",
      " #   Column               Non-Null Count  Dtype \n",
      "---  ------               --------------  ----- \n",
      " 0   category             5824 non-null   object\n",
      " 1   scientific_name      5824 non-null   object\n",
      " 2   common_names         5824 non-null   object\n",
      " 3   conservation_status  191 non-null    object\n",
      "dtypes: object(4)\n",
      "memory usage: 182.1+ KB\n",
      "None\n",
      "\n",
      "\n",
      "Obervations data: \n",
      "\n",
      "            scientific_name                            park_name  observations\n",
      "0        Vicia benghalensis  Great Smoky Mountains National Park            68\n",
      "1            Neovison vison  Great Smoky Mountains National Park            77\n",
      "2         Prunus subcordata               Yosemite National Park           138\n",
      "3      Abutilon theophrasti                  Bryce National Park            84\n",
      "4  Githopsis specularioides  Great Smoky Mountains National Park            85 \n",
      "\n",
      "<class 'pandas.core.frame.DataFrame'>\n",
      "RangeIndex: 23296 entries, 0 to 23295\n",
      "Data columns (total 3 columns):\n",
      " #   Column           Non-Null Count  Dtype \n",
      "---  ------           --------------  ----- \n",
      " 0   scientific_name  23296 non-null  object\n",
      " 1   park_name        23296 non-null  object\n",
      " 2   observations     23296 non-null  int64 \n",
      "dtypes: int64(1), object(2)\n",
      "memory usage: 546.1+ KB\n",
      "None\n"
     ]
    }
   ],
   "source": [
    "# explore each df for traits and length\n",
    "\n",
    "print('Species data: ', '\\n')\n",
    "print(species.head())\n",
    "print('\\n')\n",
    "print(species.info())\n",
    "print('\\n')\n",
    "\n",
    "print('Obervations data:', '\\n')\n",
    "print(obs.head(), '\\n')\n",
    "print(obs.info())"
   ]
  },
  {
   "cell_type": "markdown",
   "metadata": {},
   "source": [
    "###  2.1 Clean data - species"
   ]
  },
  {
   "cell_type": "markdown",
   "metadata": {},
   "source": [
    "Let's take a closer look at the conservation_status column of Species:"
   ]
  },
  {
   "cell_type": "code",
   "execution_count": 6,
   "metadata": {},
   "outputs": [
    {
     "name": "stdout",
     "output_type": "stream",
     "text": [
      "[nan 'Species of Concern' 'Endangered' 'Threatened' 'In Recovery']\n",
      "NaN                   5633\n",
      "Species of Concern     161\n",
      "Endangered              16\n",
      "Threatened              10\n",
      "In Recovery              4\n",
      "Name: conservation_status, dtype: int64\n"
     ]
    }
   ],
   "source": [
    "print(species.conservation_status.unique())\n",
    "print(species.conservation_status.value_counts(dropna=False))"
   ]
  },
  {
   "cell_type": "markdown",
   "metadata": {},
   "source": [
    "NaN values should be updated. We can use 'Unprotected' for all NaN values:"
   ]
  },
  {
   "cell_type": "code",
   "execution_count": 7,
   "metadata": {},
   "outputs": [
    {
     "name": "stdout",
     "output_type": "stream",
     "text": [
      "Unprotected           5633\n",
      "Species of Concern     161\n",
      "Endangered              16\n",
      "Threatened              10\n",
      "In Recovery              4\n",
      "Name: conservation_status, dtype: int64\n"
     ]
    }
   ],
   "source": [
    "species.fillna('Unprotected', inplace=True)\n",
    "\n",
    "print(species.conservation_status.value_counts())"
   ]
  },
  {
   "cell_type": "markdown",
   "metadata": {},
   "source": [
    "Review for any duplicate values in scientific_name column (should only be one of each scientific_name):"
   ]
  },
  {
   "cell_type": "code",
   "execution_count": 9,
   "metadata": {},
   "outputs": [
    {
     "name": "stdout",
     "output_type": "stream",
     "text": [
      "Total unique names: 5541\n",
      "Total number of rows: 5824\n"
     ]
    }
   ],
   "source": [
    "print('Total unique names: {}'.format(species.scientific_name.nunique()))\n",
    "print('Total number of rows: {}'.format(len(species)))"
   ]
  },
  {
   "cell_type": "markdown",
   "metadata": {},
   "source": [
    "It appears there are duplicates so we will need to review these prior to removing them."
   ]
  },
  {
   "cell_type": "code",
   "execution_count": 17,
   "metadata": {},
   "outputs": [
    {
     "name": "stdout",
     "output_type": "stream",
     "text": [
      "     category scientific_name        common_names conservation_status\n",
      "4      Mammal  Cervus elaphus       Wapiti Or Elk         Unprotected\n",
      "3017   Mammal  Cervus elaphus  Rocky Mountain Elk         Unprotected\n",
      "\n",
      "\n",
      "     category         scientific_name                          common_names conservation_status\n",
      "5      Mammal  Odocoileus virginianus                     White-Tailed Deer         Unprotected\n",
      "3019   Mammal  Odocoileus virginianus  White-Tailed Deer, White-Tailed Deer         Unprotected\n",
      "\n",
      "\n",
      "     category scientific_name                            common_names conservation_status\n",
      "6      Mammal      Sus scrofa                     Feral Hog, Wild Pig         Unprotected\n",
      "4447   Mammal      Sus scrofa  Pig, Pig (Feral), Wild Boar, Wild Boar         Unprotected\n",
      "\n",
      "\n",
      "     category scientific_name     common_names conservation_status\n",
      "8      Mammal     Canis lupus        Gray Wolf          Endangered\n",
      "3020   Mammal     Canis lupus  Gray Wolf, Wolf         In Recovery\n",
      "4448   Mammal     Canis lupus  Gray Wolf, Wolf          Endangered\n",
      "\n",
      "\n",
      "     category           scientific_name               common_names conservation_status\n",
      "10     Mammal  Urocyon cinereoargenteus  Common Gray Fox, Gray Fox         Unprotected\n",
      "4449   Mammal  Urocyon cinereoargenteus                   Gray Fox         Unprotected\n",
      "\n",
      "\n",
      "     category scientific_name                 common_names conservation_status\n",
      "16     Mammal   Puma concolor      Panther (Mountain Lion)         Unprotected\n",
      "3022   Mammal   Puma concolor  Cougar, Mountain Lion, Puma         Unprotected\n",
      "4451   Mammal   Puma concolor                Mountain Lion         Unprotected\n",
      "\n",
      "\n",
      "     category     scientific_name           common_names conservation_status\n",
      "18     Mammal  Spilogale putorius  Eastern Spotted Skunk         Unprotected\n",
      "4452   Mammal  Spilogale putorius          Spotted Skunk         Unprotected\n",
      "\n",
      "\n",
      "     category   scientific_name          common_names conservation_status\n",
      "20     Mammal  Lutra canadensis  Northern River Otter         Unprotected\n",
      "3025   Mammal  Lutra canadensis           River Otter         Unprotected\n",
      "\n",
      "\n"
     ]
    }
   ],
   "source": [
    "# create a for loop to loop through unique scientific_names to print out any names listed more than once:\n",
    "pd.set_option('display.width', 1000)\n",
    "\n",
    "for name in species.scientific_name.unique()[:25]:\n",
    "    if len(species[species.scientific_name == name]) > 1:\n",
    "        print(species[species.scientific_name == name])\n",
    "        print('\\n')"
   ]
  },
  {
   "cell_type": "markdown",
   "metadata": {},
   "source": [
    "Some duplicates have different common_names, however since those won't be used for this analysis we can disregard. The differing conseration_status, however, will need to be addressed."
   ]
  },
  {
   "cell_type": "code",
   "execution_count": 23,
   "metadata": {},
   "outputs": [
    {
     "name": "stdout",
     "output_type": "stream",
     "text": [
      "     category scientific_name     common_names conservation_status\n",
      "8      Mammal     Canis lupus        Gray Wolf          Endangered\n",
      "3020   Mammal     Canis lupus  Gray Wolf, Wolf         In Recovery\n",
      "4448   Mammal     Canis lupus  Gray Wolf, Wolf          Endangered\n",
      "\n",
      "\n",
      "     category      scientific_name   common_names conservation_status\n",
      "560      Fish  Oncorhynchus mykiss  Rainbow Trout         Unprotected\n",
      "3283     Fish  Oncorhynchus mykiss  Rainbow Trout          Threatened\n",
      "\n",
      "\n"
     ]
    }
   ],
   "source": [
    "# create a new for loop to find all duplicate scientific names that also have a differing conservation status\n",
    "\n",
    "for name in species.scientific_name.unique():\n",
    "    if (len(species[species.scientific_name == name]) > 1) and (species[species.scientific_name == name].conservation_status.nunique() > 1):\n",
    "        print(species[species.scientific_name == name])\n",
    "        print('\\n')"
   ]
  },
  {
   "cell_type": "markdown",
   "metadata": {},
   "source": [
    "two different scientific names show differing conservation status. We will update conservation status on each to the more severe option"
   ]
  },
  {
   "cell_type": "code",
   "execution_count": 27,
   "metadata": {
    "scrolled": true
   },
   "outputs": [
    {
     "name": "stdout",
     "output_type": "stream",
     "text": [
      "     category scientific_name     common_names conservation_status\n",
      "8      Mammal     Canis lupus        Gray Wolf          Endangered\n",
      "3020   Mammal     Canis lupus  Gray Wolf, Wolf          Endangered\n",
      "4448   Mammal     Canis lupus  Gray Wolf, Wolf          Endangered\n",
      "     category      scientific_name   common_names conservation_status\n",
      "560      Fish  Oncorhynchus mykiss  Rainbow Trout          Threatened\n",
      "3283     Fish  Oncorhynchus mykiss  Rainbow Trout          Threatened\n"
     ]
    }
   ],
   "source": [
    "species.loc[3020, 'conservation_status'] = 'Endangered'\n",
    "species.loc[560, 'conservation_status'] = 'Threatened'\n",
    "\n",
    "print(species[species.scientific_name == 'Canis lupus'])\n",
    "print(species[species.scientific_name == 'Oncorhynchus mykiss'])"
   ]
  },
  {
   "cell_type": "code",
   "execution_count": 28,
   "metadata": {},
   "outputs": [
    {
     "name": "stdout",
     "output_type": "stream",
     "text": [
      "5541\n"
     ]
    }
   ],
   "source": [
    "# remove duplicates and check that total rows now equals 5541\n",
    "\n",
    "species.drop_duplicates(subset = 'scientific_name', inplace=True)\n",
    "print(len(species))"
   ]
  },
  {
   "cell_type": "markdown",
   "metadata": {},
   "source": [
    "species dataset is now ready for analysis"
   ]
  },
  {
   "cell_type": "markdown",
   "metadata": {},
   "source": [
    "## 2.2 clean Observations dataset"
   ]
  },
  {
   "cell_type": "code",
   "execution_count": 29,
   "metadata": {},
   "outputs": [
    {
     "name": "stdout",
     "output_type": "stream",
     "text": [
      "['Great Smoky Mountains National Park' 'Yosemite National Park'\n",
      " 'Bryce National Park' 'Yellowstone National Park']\n",
      "4\n"
     ]
    }
   ],
   "source": [
    "# how many parks are listed in the data\n",
    "\n",
    "print(obs.park_name.unique())\n",
    "print(obs.park_name.nunique())"
   ]
  },
  {
   "cell_type": "code",
   "execution_count": 30,
   "metadata": {},
   "outputs": [
    {
     "name": "stdout",
     "output_type": "stream",
     "text": [
      "            scientific_name                            park_name  observations\n",
      "0        Vicia benghalensis  Great Smoky Mountains National Park            68\n",
      "1            Neovison vison  Great Smoky Mountains National Park            77\n",
      "2         Prunus subcordata               Yosemite National Park           138\n",
      "3      Abutilon theophrasti                  Bryce National Park            84\n",
      "4  Githopsis specularioides  Great Smoky Mountains National Park            85\n"
     ]
    }
   ],
   "source": [
    "print(obs.head())"
   ]
  },
  {
   "cell_type": "markdown",
   "metadata": {},
   "source": [
    "are any scientific names listed in the same park more than once? should only be 1 line per park name..."
   ]
  },
  {
   "cell_type": "code",
   "execution_count": 31,
   "metadata": {},
   "outputs": [
    {
     "name": "stdout",
     "output_type": "stream",
     "text": [
      "      scientific_name                            park_name  observations\n",
      "1294      Canis lupus               Yosemite National Park            35\n",
      "1766      Canis lupus                  Bryce National Park            27\n",
      "7346      Canis lupus                  Bryce National Park            29\n",
      "9884      Canis lupus                  Bryce National Park            74\n",
      "10190     Canis lupus  Great Smoky Mountains National Park            15\n",
      "10268     Canis lupus            Yellowstone National Park            60\n",
      "10907     Canis lupus            Yellowstone National Park            67\n",
      "13427     Canis lupus            Yellowstone National Park           203\n",
      "17756     Canis lupus  Great Smoky Mountains National Park            14\n",
      "19330     Canis lupus               Yosemite National Park           117\n",
      "19987     Canis lupus               Yosemite National Park            44\n",
      "20353     Canis lupus  Great Smoky Mountains National Park            30\n"
     ]
    }
   ],
   "source": [
    "print(obs[obs.scientific_name == 'Canis lupus'])"
   ]
  },
  {
   "cell_type": "markdown",
   "metadata": {},
   "source": [
    "here we see that Canis lupus is listed at the same park multiple times so we will need to combine the observations for each scientific_name and park_name into one observation count"
   ]
  },
  {
   "cell_type": "code",
   "execution_count": 36,
   "metadata": {},
   "outputs": [
    {
     "name": "stdout",
     "output_type": "stream",
     "text": [
      "     scientific_name                            park_name  observations\n",
      "3216     Canis lupus                  Bryce National Park           130\n",
      "3217     Canis lupus  Great Smoky Mountains National Park            59\n",
      "3218     Canis lupus            Yellowstone National Park           330\n",
      "3219     Canis lupus               Yosemite National Park           196\n"
     ]
    }
   ],
   "source": [
    "obs = obs.groupby(['scientific_name', 'park_name']).agg('sum').reset_index()\n",
    "print(obs[obs.scientific_name == 'Canis lupus'])"
   ]
  },
  {
   "cell_type": "markdown",
   "metadata": {},
   "source": [
    "obs data is now ready for analysis"
   ]
  },
  {
   "cell_type": "markdown",
   "metadata": {},
   "source": [
    "## 3 - Analysis"
   ]
  },
  {
   "cell_type": "markdown",
   "metadata": {},
   "source": [
    "## 3.1 Plotting distribution of conservation status"
   ]
  },
  {
   "cell_type": "code",
   "execution_count": 38,
   "metadata": {},
   "outputs": [
    {
     "name": "stdout",
     "output_type": "stream",
     "text": [
      "   category            scientific_name       common_names conservation_status\n",
      "7    Mammal              Canis latrans             Coyote  Species of Concern\n",
      "8    Mammal                Canis lupus          Gray Wolf          Endangered\n",
      "9    Mammal                Canis rufus           Red Wolf          Endangered\n",
      "29   Mammal           Eptesicus fuscus      Big Brown Bat  Species of Concern\n",
      "30   Mammal  Lasionycteris noctivagans  Silver-Haired Bat  Species of Concern\n"
     ]
    }
   ],
   "source": [
    "# create a new df that does not include the 'unprotected' rows since they will not be plotted\n",
    "\n",
    "specons_dist = species[species.conservation_status != 'Unprotected']\n",
    "print(specons_dist.head())"
   ]
  },
  {
   "cell_type": "code",
   "execution_count": 40,
   "metadata": {},
   "outputs": [
    {
     "name": "stdout",
     "output_type": "stream",
     "text": [
      "             category conservation_status  scientific_name\n",
      "0           Amphibian          Endangered                1\n",
      "1           Amphibian  Species of Concern                4\n",
      "2           Amphibian          Threatened                2\n",
      "3                Bird          Endangered                4\n",
      "4                Bird         In Recovery                3\n",
      "5                Bird  Species of Concern               68\n",
      "6                Fish          Endangered                3\n",
      "7                Fish  Species of Concern                4\n",
      "8                Fish          Threatened                4\n",
      "9              Mammal          Endangered                6\n",
      "10             Mammal  Species of Concern               22\n",
      "11             Mammal          Threatened                2\n",
      "12  Nonvascular Plant  Species of Concern                5\n",
      "13            Reptile  Species of Concern                5\n",
      "14     Vascular Plant          Endangered                1\n",
      "15     Vascular Plant  Species of Concern               43\n",
      "16     Vascular Plant          Threatened                2\n"
     ]
    }
   ],
   "source": [
    "# create yet another new df with the amount of scientific names in each category/park_name combination\n",
    "\n",
    "specons_dist2 = specons_dist.groupby(['category', 'conservation_status']).scientific_name.count().reset_index()\n",
    "print(specons_dist2)"
   ]
  },
  {
   "cell_type": "code",
   "execution_count": 43,
   "metadata": {},
   "outputs": [
    {
     "data": {
      "image/png": "[encoded data removed]",
      "text/plain": [
       "<Figure size 720x576 with 1 Axes>"
      ]
     },
     "metadata": {
      "needs_background": "light"
     },
     "output_type": "display_data"
    }
   ],
   "source": [
    "# plot the amounts\n",
    "\n",
    "plt.figure(figsize = (10,8))\n",
    "ax = sns.barplot(data=specons_dist2, x='conservation_status', y='scientific_name', hue='category')\n",
    "plt.legend(loc=1)\n",
    "plt.title('Count of Species Within Each Conservation Status')\n",
    "plt.xlabel('Conservation Status')\n",
    "plt.ylabel('Total Species')\n",
    "plt.show()"
   ]
  },
  {
   "cell_type": "markdown",
   "metadata": {},
   "source": [
    "The plot above shows that Species of Concern contains the most species under protection status, with Birds having the highest number followed by Vascular Plants and Mammals."
   ]
  },
  {
   "cell_type": "markdown",
   "metadata": {},
   "source": [
    "## 3.2 Likelihood of certain species to be under protection status"
   ]
  },
  {
   "cell_type": "code",
   "execution_count": 44,
   "metadata": {},
   "outputs": [
    {
     "name": "stdout",
     "output_type": "stream",
     "text": [
      "  category                scientific_name                                       common_names conservation_status\n",
      "0   Mammal  Clethrionomys gapperi gapperi                           Gapper's Red-Backed Vole         Unprotected\n",
      "1   Mammal                      Bos bison                              American Bison, Bison         Unprotected\n",
      "2   Mammal                     Bos taurus  Aurochs, Aurochs, Domestic Cattle (Feral), Dom...         Unprotected\n",
      "3   Mammal                     Ovis aries  Domestic Sheep, Mouflon, Red Sheep, Sheep (Feral)         Unprotected\n",
      "4   Mammal                 Cervus elaphus                                      Wapiti Or Elk         Unprotected\n"
     ]
    }
   ],
   "source": [
    "# update the conservation_status column to show all statuses as 'Protected'\n",
    "\n",
    "species2 = species.replace(['Endangered', 'Species of Concern', 'Threatened', 'In Recovery'], 'Protected')\n",
    "print(species2.head())"
   ]
  },
  {
   "cell_type": "code",
   "execution_count": 70,
   "metadata": {},
   "outputs": [
    {
     "name": "stdout",
     "output_type": "stream",
     "text": [
      "conservation_status  Protected  Unprotected   All\n",
      "category                                         \n",
      "All                        179         5362  5541\n",
      "Bird                        75          413   488\n",
      "Vascular Plant              46         4216  4262\n",
      "Mammal                      30          146   176\n",
      "Fish                        11          114   125\n",
      "Amphibian                    7           72    79\n",
      "Nonvascular Plant            5          328   333\n",
      "Reptile                      5           73    78\n"
     ]
    }
   ],
   "source": [
    "#pivot results\n",
    "species2_pivot = pd.pivot_table(data=species2, index = 'category', columns='conservation_status', values='scientific_name', aggfunc= 'count', margins=True)\n",
    "species2_pivot.sort_values(by='Protected', ascending=False, inplace=True)\n",
    "print(species2_pivot)"
   ]
  },
  {
   "cell_type": "code",
   "execution_count": 71,
   "metadata": {},
   "outputs": [
    {
     "name": "stdout",
     "output_type": "stream",
     "text": [
      "conservation_status  Protected  Unprotected\n",
      "category                                   \n",
      "All                        179         5362\n",
      "Bird                        75          413\n",
      "Vascular Plant              46         4216\n",
      "Mammal                      30          146\n",
      "Fish                        11          114\n",
      "Amphibian                    7           72\n",
      "Nonvascular Plant            5          328\n",
      "Reptile                      5           73\n"
     ]
    }
   ],
   "source": [
    "# drop the All column\n",
    "\n",
    "species2_pivot1 = species2_pivot.drop('All', axis=1)\n",
    "print(species2_pivot1)"
   ]
  },
  {
   "cell_type": "markdown",
   "metadata": {},
   "source": [
    "Now that we have the values for each category clearly listed, we can perform chi2 tests for each category against All:\n",
    "\n",
    "- Null hypothesis: There is no difference in protection status between a category of species and All species.\n",
    "- Alternative: There is a difference in protection status between a category of species and All species."
   ]
  },
  {
   "cell_type": "code",
   "execution_count": 79,
   "metadata": {},
   "outputs": [
    {
     "name": "stdout",
     "output_type": "stream",
     "text": [
      "conservation_status  Protected  Unprotected\n",
      "category                                   \n",
      "All                        179         5362\n",
      "Bird                        75          413\n",
      "[[ 233.44070327 5307.55929673]\n",
      " [  20.55929673  467.44070327]]\n",
      "7.723449629751259e-37\n",
      "There is a difference.\n",
      "Bird is more likely to be under protection status than the total categories observed.\n",
      "\n",
      "\n",
      "conservation_status  Protected  Unprotected\n",
      "category                                   \n",
      "All                        179         5362\n",
      "Vascular Plant              46         4216\n",
      "[[ 127.17790472 5413.82209528]\n",
      " [  97.82209528 4164.17790472]]\n",
      "2.898911520201638e-12\n",
      "There is a difference.\n",
      "Vascular Plant is less likely to be under protection status than the total categories observed.\n",
      "\n",
      "\n",
      "conservation_status  Protected  Unprotected\n",
      "category                                   \n",
      "All                        179         5362\n",
      "Mammal                      30          146\n",
      "[[ 202.56585622 5338.43414378]\n",
      " [   6.43414378  169.56585622]]\n",
      "4.9493889009621755e-21\n",
      "There is a difference.\n",
      "Mammal is more likely to be under protection status than the total categories observed.\n",
      "\n",
      "\n",
      "conservation_status  Protected  Unprotected\n",
      "category                                   \n",
      "All                        179         5362\n",
      "Fish                        11          114\n",
      "[[1.85808330e+02 5.35519167e+03]\n",
      " [4.19166961e+00 1.20808330e+02]]\n",
      "0.001527746089955075\n",
      "There is a difference.\n",
      "Fish is more likely to be under protection status than the total categories observed.\n",
      "\n",
      "\n",
      "conservation_status  Protected  Unprotected\n",
      "category                                   \n",
      "All                        179         5362\n",
      "Amphibian                    7           72\n",
      "[[1.83385409e+02 5.35761459e+03]\n",
      " [2.61459075e+00 7.63854093e+01]]\n",
      "0.013853784966005726\n",
      "There is a difference.\n",
      "Amphibian is more likely to be under protection status than the total categories observed.\n",
      "\n",
      "\n",
      "conservation_status  Protected  Unprotected\n",
      "category                                   \n",
      "All                        179         5362\n",
      "Nonvascular Plant            5          328\n",
      "[[ 173.56894791 5367.43105209]\n",
      " [  10.43105209  322.56894791]]\n",
      "0.1102211606997997\n",
      "There is no difference in protection status.\n",
      "The category is equally likely to be under protection status compared to the total categories observed.\n",
      "\n",
      "\n",
      "conservation_status  Protected  Unprotected\n",
      "category                                   \n",
      "All                        179         5362\n",
      "Reptile                      5           73\n",
      "[[1.81445809e+02 5.35955419e+03]\n",
      " [2.55419114e+00 7.54458089e+01]]\n",
      "0.21253204939229353\n",
      "There is no difference in protection status.\n",
      "The category is equally likely to be under protection status compared to the total categories observed.\n",
      "\n",
      "\n"
     ]
    }
   ],
   "source": [
    "from scipy.stats import chi2_contingency\n",
    "\n",
    "# for loop to run each test against All\n",
    "\n",
    "significance_threshold = 0.05\n",
    "\n",
    "for category in species2_pivot1.index[1:]:\n",
    "    print(species2_pivot1.loc[['All', category]])\n",
    "    chi2, pval, dof, expected = chi2_contingency(species2_pivot1.loc[['All', category]])\n",
    "    print(expected)\n",
    "    print(pval)\n",
    "    if pval <= significance_threshold:\n",
    "        print('There is a difference.')\n",
    "        if species2_pivot1.loc[category].Protected >= expected[1][0]:\n",
    "            print(category, 'is more likely to be under protection status than the total categories observed.')\n",
    "        else:\n",
    "            print(category, 'is less likely to be under protection status than the total categories observed.')\n",
    "    \n",
    "    else:\n",
    "        print('There is no difference in protection status.')\n",
    "        print('The category is equally likely to be under protection status compared to the total categories observed.')\n",
    "    \n",
    "    print('\\n')\n"
   ]
  },
  {
   "cell_type": "code",
   "execution_count": 98,
   "metadata": {},
   "outputs": [
    {
     "name": "stdout",
     "output_type": "stream",
     "text": [
      "conservation_status  Protected  Unprotected\n",
      "category                                   \n",
      "Bird                        75          413\n",
      "Mammal                      30          146\n",
      "pval = 0.6875948096661336\n",
      "Expected = [[ 77.1686747 410.8313253]\n",
      " [ 27.8313253 148.1686747]]\n",
      "conservation_status  Protected  Unprotected\n",
      "category                                   \n",
      "Vascular Plant              46         4216\n",
      "Nonvascular Plant            5          328\n",
      "pval = 0.6623419491381985\n",
      "Expected = [[4.73040261e+01 4.21469597e+03]\n",
      " [3.69597388e+00 3.29304026e+02]]\n"
     ]
    }
   ],
   "source": [
    "# create function to test one category against another\n",
    "\n",
    "def chi2_func(category1, category2):\n",
    "    print(species2_pivot1.loc[[category1, category2]])\n",
    "    chi2, pval, dof, expected = chi2_contingency(species2_pivot1.loc[[category1, category2]])\n",
    "    print('pval =',pval)\n",
    "    print('Expected =', expected)\n",
    "    \n",
    "\n",
    "    \n",
    "    \n",
    "chi2_func('Bird', 'Mammal')\n",
    "chi2_func('Vascular Plant', 'Nonvascular Plant')"
   ]
  },
  {
   "cell_type": "code",
   "execution_count": null,
   "metadata": {},
   "outputs": [],
   "source": []
  },
  {
   "cell_type": "markdown",
   "metadata": {},
   "source": [
    "## 3.4 What is the breakdown of categories observed at each park?"
   ]
  },
  {
   "cell_type": "code",
   "execution_count": 94,
   "metadata": {},
   "outputs": [
    {
     "name": "stdout",
     "output_type": "stream",
     "text": [
      "<class 'pandas.core.frame.DataFrame'>\n",
      "Int64Index: 22164 entries, 0 to 22163\n",
      "Data columns (total 6 columns):\n",
      " #   Column               Non-Null Count  Dtype \n",
      "---  ------               --------------  ----- \n",
      " 0   category             22164 non-null  object\n",
      " 1   scientific_name      22164 non-null  object\n",
      " 2   common_names         22164 non-null  object\n",
      " 3   conservation_status  22164 non-null  object\n",
      " 4   park_name            22164 non-null  object\n",
      " 5   observations         22164 non-null  int64 \n",
      "dtypes: int64(1), object(5)\n",
      "memory usage: 1.2+ MB\n",
      "None\n",
      "                              park_name           category  observations\n",
      "0                   Bryce National Park          Amphibian          7380\n",
      "1                   Bryce National Park               Bird         51647\n",
      "2                   Bryce National Park               Fish         12423\n",
      "3                   Bryce National Park             Mammal         20550\n",
      "4                   Bryce National Park  Nonvascular Plant         32992\n",
      "5                   Bryce National Park            Reptile          7950\n",
      "6                   Bryce National Park     Vascular Plant        443083\n",
      "7   Great Smoky Mountains National Park          Amphibian          5707\n",
      "8   Great Smoky Mountains National Park               Bird         37728\n",
      "9   Great Smoky Mountains National Park               Fish          9206\n",
      "10  Great Smoky Mountains National Park             Mammal         15012\n",
      "11  Great Smoky Mountains National Park  Nonvascular Plant         24857\n",
      "12  Great Smoky Mountains National Park            Reptile          5691\n",
      "13  Great Smoky Mountains National Park     Vascular Plant        333619\n",
      "14            Yellowstone National Park          Amphibian         19440\n",
      "15            Yellowstone National Park               Bird        127251\n",
      "16            Yellowstone National Park               Fish         30574\n",
      "17            Yellowstone National Park             Mammal         50795\n",
      "18            Yellowstone National Park  Nonvascular Plant         83021\n",
      "19            Yellowstone National Park            Reptile         19554\n",
      "20            Yellowstone National Park     Vascular Plant       1112927\n",
      "21               Yosemite National Park          Amphibian         11444\n",
      "22               Yosemite National Park               Bird         76207\n",
      "23               Yosemite National Park               Fish         18615\n",
      "24               Yosemite National Park             Mammal         30339\n",
      "25               Yosemite National Park  Nonvascular Plant         49783\n",
      "26               Yosemite National Park            Reptile         11483\n",
      "27               Yosemite National Park     Vascular Plant        665461\n",
      "park_name                            category         \n",
      "Bryce National Park                  Amphibian               7380\n",
      "                                     Bird                   51647\n",
      "                                     Fish                   12423\n",
      "                                     Mammal                 20550\n",
      "                                     Nonvascular Plant      32992\n",
      "                                     Reptile                 7950\n",
      "                                     Vascular Plant        443083\n",
      "Great Smoky Mountains National Park  Amphibian               5707\n",
      "                                     Bird                   37728\n",
      "                                     Fish                    9206\n",
      "                                     Mammal                 15012\n",
      "                                     Nonvascular Plant      24857\n",
      "                                     Reptile                 5691\n",
      "                                     Vascular Plant        333619\n",
      "Yellowstone National Park            Amphibian              19440\n",
      "                                     Bird                  127251\n",
      "                                     Fish                   30574\n",
      "                                     Mammal                 50795\n",
      "                                     Nonvascular Plant      83021\n",
      "                                     Reptile                19554\n",
      "                                     Vascular Plant       1112927\n",
      "Yosemite National Park               Amphibian              11444\n",
      "                                     Bird                   76207\n",
      "                                     Fish                   18615\n",
      "                                     Mammal                 30339\n",
      "                                     Nonvascular Plant      49783\n",
      "                                     Reptile                11483\n",
      "                                     Vascular Plant        665461\n",
      "Name: observations, dtype: int64\n"
     ]
    }
   ],
   "source": [
    "# merge dataframes\n",
    "\n",
    "merged = pd.merge(species, obs, on='scientific_name')\n",
    "print(merged.info())\n",
    "\n",
    "merged = merged.groupby(['park_name', 'category']).observations.sum().reset_index()\n",
    "print(merged)\n",
    "merged1 = merged.groupby(['park_name', 'category'], sort=False).observations.sum()\n",
    "print(merged1)"
   ]
  },
  {
   "cell_type": "code",
   "execution_count": 97,
   "metadata": {},
   "outputs": [
    {
     "data": {
      "image/png": "[encoded data removed]",
      "text/plain": [
       "<Figure size 864x720 with 1 Axes>"
      ]
     },
     "metadata": {
      "needs_background": "light"
     },
     "output_type": "display_data"
    }
   ],
   "source": [
    "plt.figure(figsize=(12,10))\n",
    "ax = sns.barplot(data=merged, x='park_name', y='observations', hue='category')\n",
    "plt.title('Total categories observed at each park')\n",
    "plt.xlabel('Park Name')\n",
    "plt.ylabel('Total Observations')\n",
    "plt.show()"
   ]
  }
 ],
 "metadata": {
  "kernelspec": {
   "display_name": "Python 3 (ipykernel)",
   "language": "python",
   "name": "python3"
  },
  "language_info": {
   "codemirror_mode": {
    "name": "ipython",
    "version": 3
   },
   "file_extension": ".py",
   "mimetype": "text/x-python",
   "name": "python",
   "nbconvert_exporter": "python",
   "pygments_lexer": "ipython3",
   "version": "3.9.7"
  }
 },
 "nbformat": 4,
 "nbformat_minor": 4
}
